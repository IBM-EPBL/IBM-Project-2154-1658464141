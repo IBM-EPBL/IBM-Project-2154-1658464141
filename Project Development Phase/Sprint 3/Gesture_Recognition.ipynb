{
 "cells": [
  {
   "cell_type": "code",
   "execution_count": 13,
   "id": "83055d46",
   "metadata": {},
   "outputs": [],
   "source": [
    "import numpy as np\n",
    "import tensorflow\n",
    "from tensorflow.keras.models import Sequential\n",
    "from tensorflow.keras import layers\n",
    "\n",
    "from tensorflow.keras.layers import Conv2D,MaxPooling2D,Flatten,Dense"
   ]
  },
  {
   "cell_type": "markdown",
   "id": "9cfb160f",
   "metadata": {},
   "source": [
    "Importing the Image DataGenerator Library"
   ]
  },
  {
   "cell_type": "code",
   "execution_count": 14,
   "id": "04ab6719",
   "metadata": {},
   "outputs": [],
   "source": [
    "from keras.preprocessing.image import ImageDataGenerator"
   ]
  },
  {
   "cell_type": "code",
   "execution_count": 21,
   "id": "bb72b3d6",
   "metadata": {},
   "outputs": [],
   "source": [
    "import os\n",
    "traindir = 'Input/Dataset/train'\n",
    "classes = {'0':0, '1':1, '2':2, '3':3, '4':4, '5':5}"
   ]
  },
  {
   "cell_type": "code",
   "execution_count": 23,
   "id": "dbff47bc",
   "metadata": {},
   "outputs": [],
   "source": [
    "testdir='Input/Dataset/test'"
   ]
  },
  {
   "cell_type": "markdown",
   "id": "505f8320",
   "metadata": {},
   "source": [
    "Configure Image DataGenerator Class"
   ]
  },
  {
   "cell_type": "code",
   "execution_count": 24,
   "id": "6d95d319",
   "metadata": {},
   "outputs": [],
   "source": [
    "#Image Data Augmentation\n",
    "train_datagen = ImageDataGenerator(\n",
    "    rescale=1/.255,\n",
    "    shear_range=0.2,\n",
    "    zoom_range=0.2,\n",
    "    horizontal_flip=True)\n",
    "\n",
    "\n",
    "test_datagen = ImageDataGenerator(rescale=1/.255)"
   ]
  },
  {
   "cell_type": "markdown",
   "id": "aeb25614",
   "metadata": {},
   "source": [
    "Apply ImageDataGenerator Functionality to Trainset and Testset"
   ]
  },
  {
   "cell_type": "code",
   "execution_count": 25,
   "id": "7e3d98ea",
   "metadata": {},
   "outputs": [
    {
     "name": "stdout",
     "output_type": "stream",
     "text": [
      "Found 594 images belonging to 6 classes.\n",
      "Found 30 images belonging to 6 classes.\n"
     ]
    }
   ],
   "source": [
    "x_train=train_datagen.flow_from_directory(traindir,target_size=(64,64),batch_size=32,color_mode=\"grayscale\", class_mode='categorical')\n",
    "\n",
    "x_test=train_datagen.flow_from_directory(testdir,target_size=(64,64),batch_size=32, color_mode='grayscale',class_mode='categorical')"
   ]
  },
  {
   "cell_type": "markdown",
   "id": "a9bb62c0",
   "metadata": {},
   "source": [
    "Model Building"
   ]
  },
  {
   "cell_type": "code",
   "execution_count": 27,
   "id": "b0cf07bd",
   "metadata": {},
   "outputs": [],
   "source": [
    "#Importing Necessary Libraries\n",
    "import numpy as np\n",
    "import tensorflow\n",
    "from tensorflow.keras.models import Sequential\n",
    "from tensorflow.keras import layers\n",
    "\n",
    "from tensorflow.keras.layers import Conv2D,MaxPooling2D,Flatten,Dense"
   ]
  },
  {
   "cell_type": "code",
   "execution_count": 28,
   "id": "613cdbb0",
   "metadata": {},
   "outputs": [],
   "source": [
    "#Initializing the model\n",
    "model=Sequential()"
   ]
  },
  {
   "cell_type": "code",
   "execution_count": 29,
   "id": "a98c2fa1",
   "metadata": {},
   "outputs": [],
   "source": [
    "#Adding CNN Layers\n",
    "model.add(Conv2D(32,(3,3),input_shape=(64,64,1),activation=\"relu\"))\n",
    "model.add(MaxPooling2D(pool_size=(2,2)))\n",
    "\n",
    "model.add(Conv2D(32,(3,3),activation=\"relu\"))\n",
    "\n",
    "model.add(MaxPooling2D(pool_size=(2,2)))\n",
    "\n",
    "model.add(Flatten())"
   ]
  },
  {
   "cell_type": "code",
   "execution_count": 30,
   "id": "4e348bb1",
   "metadata": {},
   "outputs": [],
   "source": [
    "#Adding Dense Layers\n",
    "model.add(Dense(units=128,activation=\"relu\"))\n",
    "model.add(Dense(units=6,activation=\"softmax\"))"
   ]
  },
  {
   "cell_type": "code",
   "execution_count": 31,
   "id": "5d6d125a",
   "metadata": {},
   "outputs": [
    {
     "name": "stdout",
     "output_type": "stream",
     "text": [
      "Model: \"sequential\"\n",
      "_________________________________________________________________\n",
      " Layer (type)                Output Shape              Param #   \n",
      "=================================================================\n",
      " conv2d (Conv2D)             (None, 62, 62, 32)        320       \n",
      "                                                                 \n",
      " max_pooling2d (MaxPooling2D  (None, 31, 31, 32)       0         \n",
      " )                                                               \n",
      "                                                                 \n",
      " conv2d_1 (Conv2D)           (None, 29, 29, 32)        9248      \n",
      "                                                                 \n",
      " max_pooling2d_1 (MaxPooling  (None, 14, 14, 32)       0         \n",
      " 2D)                                                             \n",
      "                                                                 \n",
      " flatten (Flatten)           (None, 6272)              0         \n",
      "                                                                 \n",
      " dense (Dense)               (None, 128)               802944    \n",
      "                                                                 \n",
      " dense_1 (Dense)             (None, 6)                 774       \n",
      "                                                                 \n",
      "=================================================================\n",
      "Total params: 813,286\n",
      "Trainable params: 813,286\n",
      "Non-trainable params: 0\n",
      "_________________________________________________________________\n"
     ]
    }
   ],
   "source": [
    "model.summary()"
   ]
  },
  {
   "cell_type": "code",
   "execution_count": 32,
   "id": "fdff5af6",
   "metadata": {},
   "outputs": [],
   "source": [
    "#Compile the model\n",
    "model.compile(optimizer='adam',loss='categorical_crossentropy',metrics=['accuracy'])"
   ]
  },
  {
   "cell_type": "markdown",
   "id": "b61f87b5",
   "metadata": {},
   "source": [
    "Train the Model"
   ]
  },
  {
   "cell_type": "code",
   "execution_count": 34,
   "id": "359f13d6",
   "metadata": {},
   "outputs": [
    {
     "name": "stderr",
     "output_type": "stream",
     "text": [
      "C:\\Users\\amirt\\AppData\\Local\\Temp\\ipykernel_14728\\4108610411.py:2: UserWarning: `Model.fit_generator` is deprecated and will be removed in a future version. Please use `Model.fit`, which supports generators.\n",
      "  model.fit_generator(\n"
     ]
    },
    {
     "name": "stdout",
     "output_type": "stream",
     "text": [
      "Epoch 1/20\n",
      "19/19 [==============================] - 3s 124ms/step - loss: 220.2480 - accuracy: 0.2424 - val_loss: 5.4434 - val_accuracy: 0.3000\n",
      "Epoch 2/20\n",
      "19/19 [==============================] - 2s 97ms/step - loss: 2.6793 - accuracy: 0.3939 - val_loss: 2.0159 - val_accuracy: 0.5333\n",
      "Epoch 3/20\n",
      "19/19 [==============================] - 2s 111ms/step - loss: 1.6177 - accuracy: 0.4310 - val_loss: 1.4645 - val_accuracy: 0.4333\n",
      "Epoch 4/20\n",
      "19/19 [==============================] - 2s 109ms/step - loss: 1.1625 - accuracy: 0.5741 - val_loss: 1.3998 - val_accuracy: 0.4667\n",
      "Epoch 5/20\n",
      "19/19 [==============================] - 2s 103ms/step - loss: 1.0245 - accuracy: 0.6162 - val_loss: 1.4097 - val_accuracy: 0.5000\n",
      "Epoch 6/20\n",
      "19/19 [==============================] - 2s 93ms/step - loss: 0.7896 - accuracy: 0.7054 - val_loss: 1.2211 - val_accuracy: 0.4667\n",
      "Epoch 7/20\n",
      "19/19 [==============================] - 2s 96ms/step - loss: 0.7004 - accuracy: 0.7559 - val_loss: 0.8975 - val_accuracy: 0.7667\n",
      "Epoch 8/20\n",
      "19/19 [==============================] - 2s 119ms/step - loss: 0.7027 - accuracy: 0.7441 - val_loss: 1.1577 - val_accuracy: 0.7333\n",
      "Epoch 9/20\n",
      "19/19 [==============================] - 2s 98ms/step - loss: 0.5392 - accuracy: 0.8030 - val_loss: 0.8014 - val_accuracy: 0.7667\n",
      "Epoch 10/20\n",
      "19/19 [==============================] - 2s 108ms/step - loss: 0.4642 - accuracy: 0.8401 - val_loss: 0.6218 - val_accuracy: 0.7000\n",
      "Epoch 11/20\n",
      "19/19 [==============================] - 2s 111ms/step - loss: 0.4266 - accuracy: 0.8737 - val_loss: 1.0610 - val_accuracy: 0.7000\n",
      "Epoch 12/20\n",
      "19/19 [==============================] - 2s 100ms/step - loss: 0.3159 - accuracy: 0.8906 - val_loss: 1.0941 - val_accuracy: 0.7667\n",
      "Epoch 13/20\n",
      "19/19 [==============================] - 2s 93ms/step - loss: 0.3023 - accuracy: 0.8923 - val_loss: 0.5148 - val_accuracy: 0.8000\n",
      "Epoch 14/20\n",
      "19/19 [==============================] - 2s 98ms/step - loss: 0.2758 - accuracy: 0.9074 - val_loss: 1.1023 - val_accuracy: 0.7000\n",
      "Epoch 15/20\n",
      "19/19 [==============================] - 2s 95ms/step - loss: 0.2466 - accuracy: 0.9108 - val_loss: 0.8803 - val_accuracy: 0.6333\n",
      "Epoch 16/20\n",
      "19/19 [==============================] - 2s 101ms/step - loss: 0.2124 - accuracy: 0.9209 - val_loss: 0.7343 - val_accuracy: 0.7667\n",
      "Epoch 17/20\n",
      "19/19 [==============================] - 2s 95ms/step - loss: 0.2023 - accuracy: 0.9259 - val_loss: 0.6691 - val_accuracy: 0.8333\n",
      "Epoch 18/20\n",
      "19/19 [==============================] - 2s 97ms/step - loss: 0.2092 - accuracy: 0.9428 - val_loss: 1.0425 - val_accuracy: 0.8000\n",
      "Epoch 19/20\n",
      "19/19 [==============================] - 2s 108ms/step - loss: 0.1917 - accuracy: 0.9360 - val_loss: 0.7687 - val_accuracy: 0.7667\n",
      "Epoch 20/20\n",
      "19/19 [==============================] - 2s 119ms/step - loss: 0.1988 - accuracy: 0.9310 - val_loss: 0.5879 - val_accuracy: 0.8000\n"
     ]
    },
    {
     "data": {
      "text/plain": [
       "<keras.callbacks.History at 0x1d155195000>"
      ]
     },
     "execution_count": 34,
     "metadata": {},
     "output_type": "execute_result"
    }
   ],
   "source": [
    "#Fitting the model\n",
    "model.fit_generator(\n",
    "    generator=x_train,steps_per_epoch=len(x_train),\n",
    "    epochs=20,validation_data=x_test,validation_steps=len(x_test))"
   ]
  },
  {
   "cell_type": "code",
   "execution_count": 35,
   "id": "1c170615",
   "metadata": {},
   "outputs": [],
   "source": [
    "#Save the model\n",
    "model.save('gesture.h5')"
   ]
  },
  {
   "cell_type": "code",
   "execution_count": 36,
   "id": "a243000c",
   "metadata": {},
   "outputs": [],
   "source": [
    "model_json=model.to_json()\n",
    "with open(\"model-bw.json\",\"w\") as json_file:\n",
    "    json_file.write(model_json)"
   ]
  },
  {
   "cell_type": "markdown",
   "id": "2d383421",
   "metadata": {},
   "source": [
    "Test the Model"
   ]
  },
  {
   "cell_type": "code",
   "execution_count": 40,
   "id": "64fb101e",
   "metadata": {},
   "outputs": [],
   "source": [
    "import tensorflow as tf\n",
    "from tensorflow.keras.models import load_model\n",
    "from keras.preprocessing import image\n",
    "model=load_model(\"gesture.h5\")"
   ]
  },
  {
   "cell_type": "code",
   "execution_count": 109,
   "id": "b42df487",
   "metadata": {},
   "outputs": [
    {
     "name": "stdout",
     "output_type": "stream",
     "text": [
      "1/1 [==============================] - 0s 30ms/step\n",
      "[[0 0 0 1 0 0]]\n",
      "3\n"
     ]
    }
   ],
   "source": [
    "img=tf.keras.utils.load_img(r\"Input/Dataset/test/3/4.jpg\",grayscale=True,target_size=(64,64))\n",
    "x=tf.keras.utils.img_to_array(img)\n",
    "x=np.expand_dims(x,axis=0)\n",
    "pred=(model.predict(x) > 0.5).astype(\"int32\")\n",
    "print(pred)\n",
    "y=np.where(pred[0]==1)\n",
    "res=y[0][0]\n",
    "print(res)"
   ]
  },
  {
   "cell_type": "code",
   "execution_count": 104,
   "id": "ece111ba",
   "metadata": {},
   "outputs": [
    {
     "name": "stdout",
     "output_type": "stream",
     "text": [
      "Gesture: 3\n"
     ]
    }
   ],
   "source": [
    "index=['0','1','2','3','4','5']\n",
    "result=str(index[res])\n",
    "print(\"Gesture:\",result)"
   ]
  },
  {
   "cell_type": "code",
   "execution_count": 126,
   "id": "a3439c95",
   "metadata": {},
   "outputs": [
    {
     "name": "stdout",
     "output_type": "stream",
     "text": [
      "1/1 [==============================] - 0s 76ms/step\n",
      "[1]\n",
      "[2]\n",
      "[0]\n",
      "[5]\n",
      "[0]\n",
      "[4]\n",
      "[1]\n",
      "[0]\n",
      "[1]\n",
      "[3]\n",
      "[5]\n",
      "[1]\n",
      "[3]\n",
      "[5]\n",
      "[0]\n",
      "[1]\n",
      "[3]\n",
      "[5]\n",
      "[5]\n",
      "[0]\n",
      "[2]\n",
      "[4]\n",
      "[1]\n",
      "[5]\n",
      "[2]\n",
      "[4]\n",
      "[4]\n",
      "[3]\n",
      "[2]\n",
      "[5]\n"
     ]
    }
   ],
   "source": [
    "predictions = (model.predict(x_test) > 0.5).astype(\"int32\")\n",
    "predictions\n",
    "for i in predictions:\n",
    "    #print(i)\n",
    "    y=np.where(i==1)\n",
    "    print(y[0])"
   ]
  }
 ],
 "metadata": {
  "kernelspec": {
   "display_name": "Python 3 (ipykernel)",
   "language": "python",
   "name": "python3"
  },
  "language_info": {
   "codemirror_mode": {
    "name": "ipython",
    "version": 3
   },
   "file_extension": ".py",
   "mimetype": "text/x-python",
   "name": "python",
   "nbconvert_exporter": "python",
   "pygments_lexer": "ipython3",
   "version": "3.10.5"
  }
 },
 "nbformat": 4,
 "nbformat_minor": 5
}
